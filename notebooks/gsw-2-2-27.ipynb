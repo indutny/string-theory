{
 "cells": [
  {
   "cell_type": "code",
   "execution_count": 2,
   "metadata": {},
   "outputs": [],
   "source": [
    "from sympy import *\n",
    "init_printing(use_unicode=True)"
   ]
  },
  {
   "cell_type": "code",
   "execution_count": 22,
   "metadata": {},
   "outputs": [],
   "source": [
    "m, n, k, A, c1, c3, c5 = symbols('m, n, k, A, c_1, c_3, c_5')\n",
    "A = Function(A, real=True)"
   ]
  },
  {
   "cell_type": "code",
   "execution_count": 23,
   "metadata": {},
   "outputs": [
    {
     "data": {
      "image/png": "[encoded data removed]",
      "text/latex": [
       "$\\displaystyle 0 = \\left(- k + m\\right) A{\\left(n \\right)} + \\left(k - n\\right) A{\\left(m \\right)} + \\left(- m + n\\right) A{\\left(k \\right)}$"
      ],
      "text/plain": [
       "0 = (-k + m)⋅A(n) + (k - n)⋅A(m) + (-m + n)⋅A(k)"
      ]
     },
     "execution_count": 23,
     "metadata": {},
     "output_type": "execute_result"
    }
   ],
   "source": [
    "eq = Eq(0, (n - m) * A(k) + (m - k) * A(n) + (k - n) * A(m))\n",
    "eq"
   ]
  },
  {
   "cell_type": "code",
   "execution_count": 24,
   "metadata": {},
   "outputs": [
    {
     "data": {
      "image/png": "[encoded data removed]",
      "text/latex": [
       "$\\displaystyle \\left(m - n\\right) A{\\left(m + n \\right)} - \\left(m + 2 n\\right) A{\\left(m \\right)} + \\left(2 m + n\\right) A{\\left(n \\right)} = 0$"
      ],
      "text/plain": [
       "(m - n)⋅A(m + n) - (m + 2⋅n)⋅A(m) + (2⋅m + n)⋅A(n) = 0"
      ]
     },
     "execution_count": 24,
     "metadata": {},
     "output_type": "execute_result"
    }
   ],
   "source": [
    "eq1 = eq.subs({ k: -n - m }).replace(A(-m - n), -A(m + n)).simplify()\n",
    "eq1"
   ]
  },
  {
   "cell_type": "code",
   "execution_count": 30,
   "metadata": {},
   "outputs": [
    {
     "data": {
      "image/png": "[encoded data removed]",
      "text/latex": [
       "$\\displaystyle \\left(m - n\\right) \\left(c_{1} \\left(m + n\\right) + c_{3} \\left(m + n\\right)^{3}\\right) - \\left(m + 2 n\\right) \\left(c_{1} m + c_{3} m^{3}\\right) + \\left(2 m + n\\right) \\left(c_{1} n + c_{3} n^{3}\\right) = 0$"
      ],
      "text/plain": [
       "        ⎛                       3⎞             ⎛           3⎞             ⎛   \n",
       "(m - n)⋅⎝c₁⋅(m + n) + c₃⋅(m + n) ⎠ - (m + 2⋅n)⋅⎝c₁⋅m + c₃⋅m ⎠ + (2⋅m + n)⋅⎝c₁⋅\n",
       "\n",
       "        3⎞    \n",
       "n + c₃⋅n ⎠ = 0"
      ]
     },
     "execution_count": 30,
     "metadata": {},
     "output_type": "execute_result"
    }
   ],
   "source": [
    "eq2 = eq1.replace(A(n), c1 * n + c3 * n ** 3) \\\n",
    "  .replace(A(m), c1 * m + c3 * m ** 3) \\\n",
    "  .replace(A(m + n), c1 * (m + n) + c3 * (m + n) ** 3)\n",
    "eq2"
   ]
  },
  {
   "cell_type": "code",
   "execution_count": 31,
   "metadata": {},
   "outputs": [
    {
     "data": {
      "image/png": "[encoded data removed]",
      "text/latex": [
       "$\\displaystyle \\text{True}$"
      ],
      "text/plain": [
       "True"
      ]
     },
     "execution_count": 31,
     "metadata": {},
     "output_type": "execute_result"
    }
   ],
   "source": [
    "eq2.simplify()"
   ]
  },
  {
   "cell_type": "code",
   "execution_count": null,
   "metadata": {},
   "outputs": [],
   "source": []
  }
 ],
 "metadata": {
  "kernelspec": {
   "display_name": "Python 3",
   "language": "python",
   "name": "python3"
  },
  "language_info": {
   "codemirror_mode": {
    "name": "ipython",
    "version": 3
   },
   "file_extension": ".py",
   "mimetype": "text/x-python",
   "name": "python",
   "nbconvert_exporter": "python",
   "pygments_lexer": "ipython3",
   "version": "3.8.5"
  }
 },
 "nbformat": 4,
 "nbformat_minor": 4
}
